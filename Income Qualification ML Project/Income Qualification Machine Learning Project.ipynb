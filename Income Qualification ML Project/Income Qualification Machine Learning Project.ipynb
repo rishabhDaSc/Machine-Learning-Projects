{
 "cells": [
  {
   "cell_type": "code",
   "execution_count": 1,
   "id": "8bb02fa6",
   "metadata": {},
   "outputs": [],
   "source": [
    "import pandas as pd\n",
    "import numpy as np\n",
    "import matplotlib.pyplot as plt\n",
    "import seaborn as sns\n",
    "from sklearn.ensemble import RandomForestClassifier\n",
    "from sklearn.preprocessing import StandardScaler\n",
    "from sklearn.metrics import accuracy_score \n",
    "from sklearn.model_selection import train_test_split\n",
    "import warnings\n",
    "warnings.filterwarnings('ignore')"
   ]
  },
  {
   "cell_type": "code",
   "execution_count": 2,
   "id": "ac66a6ee",
   "metadata": {},
   "outputs": [
    {
     "data": {
      "text/html": [
       "<div>\n",
       "<style scoped>\n",
       "    .dataframe tbody tr th:only-of-type {\n",
       "        vertical-align: middle;\n",
       "    }\n",
       "\n",
       "    .dataframe tbody tr th {\n",
       "        vertical-align: top;\n",
       "    }\n",
       "\n",
       "    .dataframe thead th {\n",
       "        text-align: right;\n",
       "    }\n",
       "</style>\n",
       "<table border=\"1\" class=\"dataframe\">\n",
       "  <thead>\n",
       "    <tr style=\"text-align: right;\">\n",
       "      <th></th>\n",
       "      <th>Id</th>\n",
       "      <th>v2a1</th>\n",
       "      <th>hacdor</th>\n",
       "      <th>rooms</th>\n",
       "      <th>hacapo</th>\n",
       "      <th>v14a</th>\n",
       "      <th>refrig</th>\n",
       "      <th>v18q</th>\n",
       "      <th>v18q1</th>\n",
       "      <th>r4h1</th>\n",
       "      <th>...</th>\n",
       "      <th>SQBescolari</th>\n",
       "      <th>SQBage</th>\n",
       "      <th>SQBhogar_total</th>\n",
       "      <th>SQBedjefe</th>\n",
       "      <th>SQBhogar_nin</th>\n",
       "      <th>SQBovercrowding</th>\n",
       "      <th>SQBdependency</th>\n",
       "      <th>SQBmeaned</th>\n",
       "      <th>agesq</th>\n",
       "      <th>Target</th>\n",
       "    </tr>\n",
       "  </thead>\n",
       "  <tbody>\n",
       "    <tr>\n",
       "      <th>0</th>\n",
       "      <td>ID_279628684</td>\n",
       "      <td>190000.0</td>\n",
       "      <td>0</td>\n",
       "      <td>3</td>\n",
       "      <td>0</td>\n",
       "      <td>1</td>\n",
       "      <td>1</td>\n",
       "      <td>0</td>\n",
       "      <td>NaN</td>\n",
       "      <td>0</td>\n",
       "      <td>...</td>\n",
       "      <td>100</td>\n",
       "      <td>1849</td>\n",
       "      <td>1</td>\n",
       "      <td>100</td>\n",
       "      <td>0</td>\n",
       "      <td>1.000000</td>\n",
       "      <td>0.0</td>\n",
       "      <td>100.0</td>\n",
       "      <td>1849</td>\n",
       "      <td>4</td>\n",
       "    </tr>\n",
       "    <tr>\n",
       "      <th>1</th>\n",
       "      <td>ID_f29eb3ddd</td>\n",
       "      <td>135000.0</td>\n",
       "      <td>0</td>\n",
       "      <td>4</td>\n",
       "      <td>0</td>\n",
       "      <td>1</td>\n",
       "      <td>1</td>\n",
       "      <td>1</td>\n",
       "      <td>1.0</td>\n",
       "      <td>0</td>\n",
       "      <td>...</td>\n",
       "      <td>144</td>\n",
       "      <td>4489</td>\n",
       "      <td>1</td>\n",
       "      <td>144</td>\n",
       "      <td>0</td>\n",
       "      <td>1.000000</td>\n",
       "      <td>64.0</td>\n",
       "      <td>144.0</td>\n",
       "      <td>4489</td>\n",
       "      <td>4</td>\n",
       "    </tr>\n",
       "    <tr>\n",
       "      <th>2</th>\n",
       "      <td>ID_68de51c94</td>\n",
       "      <td>NaN</td>\n",
       "      <td>0</td>\n",
       "      <td>8</td>\n",
       "      <td>0</td>\n",
       "      <td>1</td>\n",
       "      <td>1</td>\n",
       "      <td>0</td>\n",
       "      <td>NaN</td>\n",
       "      <td>0</td>\n",
       "      <td>...</td>\n",
       "      <td>121</td>\n",
       "      <td>8464</td>\n",
       "      <td>1</td>\n",
       "      <td>0</td>\n",
       "      <td>0</td>\n",
       "      <td>0.250000</td>\n",
       "      <td>64.0</td>\n",
       "      <td>121.0</td>\n",
       "      <td>8464</td>\n",
       "      <td>4</td>\n",
       "    </tr>\n",
       "    <tr>\n",
       "      <th>3</th>\n",
       "      <td>ID_d671db89c</td>\n",
       "      <td>180000.0</td>\n",
       "      <td>0</td>\n",
       "      <td>5</td>\n",
       "      <td>0</td>\n",
       "      <td>1</td>\n",
       "      <td>1</td>\n",
       "      <td>1</td>\n",
       "      <td>1.0</td>\n",
       "      <td>0</td>\n",
       "      <td>...</td>\n",
       "      <td>81</td>\n",
       "      <td>289</td>\n",
       "      <td>16</td>\n",
       "      <td>121</td>\n",
       "      <td>4</td>\n",
       "      <td>1.777778</td>\n",
       "      <td>1.0</td>\n",
       "      <td>121.0</td>\n",
       "      <td>289</td>\n",
       "      <td>4</td>\n",
       "    </tr>\n",
       "    <tr>\n",
       "      <th>4</th>\n",
       "      <td>ID_d56d6f5f5</td>\n",
       "      <td>180000.0</td>\n",
       "      <td>0</td>\n",
       "      <td>5</td>\n",
       "      <td>0</td>\n",
       "      <td>1</td>\n",
       "      <td>1</td>\n",
       "      <td>1</td>\n",
       "      <td>1.0</td>\n",
       "      <td>0</td>\n",
       "      <td>...</td>\n",
       "      <td>121</td>\n",
       "      <td>1369</td>\n",
       "      <td>16</td>\n",
       "      <td>121</td>\n",
       "      <td>4</td>\n",
       "      <td>1.777778</td>\n",
       "      <td>1.0</td>\n",
       "      <td>121.0</td>\n",
       "      <td>1369</td>\n",
       "      <td>4</td>\n",
       "    </tr>\n",
       "  </tbody>\n",
       "</table>\n",
       "<p>5 rows × 143 columns</p>\n",
       "</div>"
      ],
      "text/plain": [
       "             Id      v2a1  hacdor  rooms  hacapo  v14a  refrig  v18q  v18q1  \\\n",
       "0  ID_279628684  190000.0       0      3       0     1       1     0    NaN   \n",
       "1  ID_f29eb3ddd  135000.0       0      4       0     1       1     1    1.0   \n",
       "2  ID_68de51c94       NaN       0      8       0     1       1     0    NaN   \n",
       "3  ID_d671db89c  180000.0       0      5       0     1       1     1    1.0   \n",
       "4  ID_d56d6f5f5  180000.0       0      5       0     1       1     1    1.0   \n",
       "\n",
       "   r4h1  ...  SQBescolari  SQBage  SQBhogar_total  SQBedjefe  SQBhogar_nin  \\\n",
       "0     0  ...          100    1849               1        100             0   \n",
       "1     0  ...          144    4489               1        144             0   \n",
       "2     0  ...          121    8464               1          0             0   \n",
       "3     0  ...           81     289              16        121             4   \n",
       "4     0  ...          121    1369              16        121             4   \n",
       "\n",
       "   SQBovercrowding  SQBdependency  SQBmeaned  agesq  Target  \n",
       "0         1.000000            0.0      100.0   1849       4  \n",
       "1         1.000000           64.0      144.0   4489       4  \n",
       "2         0.250000           64.0      121.0   8464       4  \n",
       "3         1.777778            1.0      121.0    289       4  \n",
       "4         1.777778            1.0      121.0   1369       4  \n",
       "\n",
       "[5 rows x 143 columns]"
      ]
     },
     "execution_count": 2,
     "metadata": {},
     "output_type": "execute_result"
    }
   ],
   "source": [
    "train_data = pd.read_csv('train.csv')\n",
    "test_data = pd.read_csv('test.csv')\n",
    "train_data.head()"
   ]
  },
  {
   "cell_type": "code",
   "execution_count": 3,
   "id": "d03e9c9e",
   "metadata": {},
   "outputs": [
    {
     "data": {
      "text/html": [
       "<div>\n",
       "<style scoped>\n",
       "    .dataframe tbody tr th:only-of-type {\n",
       "        vertical-align: middle;\n",
       "    }\n",
       "\n",
       "    .dataframe tbody tr th {\n",
       "        vertical-align: top;\n",
       "    }\n",
       "\n",
       "    .dataframe thead th {\n",
       "        text-align: right;\n",
       "    }\n",
       "</style>\n",
       "<table border=\"1\" class=\"dataframe\">\n",
       "  <thead>\n",
       "    <tr style=\"text-align: right;\">\n",
       "      <th></th>\n",
       "      <th>Id</th>\n",
       "      <th>v2a1</th>\n",
       "      <th>hacdor</th>\n",
       "      <th>rooms</th>\n",
       "      <th>hacapo</th>\n",
       "      <th>v14a</th>\n",
       "      <th>refrig</th>\n",
       "      <th>v18q</th>\n",
       "      <th>v18q1</th>\n",
       "      <th>r4h1</th>\n",
       "      <th>...</th>\n",
       "      <th>age</th>\n",
       "      <th>SQBescolari</th>\n",
       "      <th>SQBage</th>\n",
       "      <th>SQBhogar_total</th>\n",
       "      <th>SQBedjefe</th>\n",
       "      <th>SQBhogar_nin</th>\n",
       "      <th>SQBovercrowding</th>\n",
       "      <th>SQBdependency</th>\n",
       "      <th>SQBmeaned</th>\n",
       "      <th>agesq</th>\n",
       "    </tr>\n",
       "  </thead>\n",
       "  <tbody>\n",
       "    <tr>\n",
       "      <th>0</th>\n",
       "      <td>ID_2f6873615</td>\n",
       "      <td>NaN</td>\n",
       "      <td>0</td>\n",
       "      <td>5</td>\n",
       "      <td>0</td>\n",
       "      <td>1</td>\n",
       "      <td>1</td>\n",
       "      <td>0</td>\n",
       "      <td>NaN</td>\n",
       "      <td>1</td>\n",
       "      <td>...</td>\n",
       "      <td>4</td>\n",
       "      <td>0</td>\n",
       "      <td>16</td>\n",
       "      <td>9</td>\n",
       "      <td>0</td>\n",
       "      <td>1</td>\n",
       "      <td>2.25</td>\n",
       "      <td>0.25</td>\n",
       "      <td>272.25</td>\n",
       "      <td>16</td>\n",
       "    </tr>\n",
       "    <tr>\n",
       "      <th>1</th>\n",
       "      <td>ID_1c78846d2</td>\n",
       "      <td>NaN</td>\n",
       "      <td>0</td>\n",
       "      <td>5</td>\n",
       "      <td>0</td>\n",
       "      <td>1</td>\n",
       "      <td>1</td>\n",
       "      <td>0</td>\n",
       "      <td>NaN</td>\n",
       "      <td>1</td>\n",
       "      <td>...</td>\n",
       "      <td>41</td>\n",
       "      <td>256</td>\n",
       "      <td>1681</td>\n",
       "      <td>9</td>\n",
       "      <td>0</td>\n",
       "      <td>1</td>\n",
       "      <td>2.25</td>\n",
       "      <td>0.25</td>\n",
       "      <td>272.25</td>\n",
       "      <td>1681</td>\n",
       "    </tr>\n",
       "    <tr>\n",
       "      <th>2</th>\n",
       "      <td>ID_e5442cf6a</td>\n",
       "      <td>NaN</td>\n",
       "      <td>0</td>\n",
       "      <td>5</td>\n",
       "      <td>0</td>\n",
       "      <td>1</td>\n",
       "      <td>1</td>\n",
       "      <td>0</td>\n",
       "      <td>NaN</td>\n",
       "      <td>1</td>\n",
       "      <td>...</td>\n",
       "      <td>41</td>\n",
       "      <td>289</td>\n",
       "      <td>1681</td>\n",
       "      <td>9</td>\n",
       "      <td>0</td>\n",
       "      <td>1</td>\n",
       "      <td>2.25</td>\n",
       "      <td>0.25</td>\n",
       "      <td>272.25</td>\n",
       "      <td>1681</td>\n",
       "    </tr>\n",
       "    <tr>\n",
       "      <th>3</th>\n",
       "      <td>ID_a8db26a79</td>\n",
       "      <td>NaN</td>\n",
       "      <td>0</td>\n",
       "      <td>14</td>\n",
       "      <td>0</td>\n",
       "      <td>1</td>\n",
       "      <td>1</td>\n",
       "      <td>1</td>\n",
       "      <td>1.0</td>\n",
       "      <td>0</td>\n",
       "      <td>...</td>\n",
       "      <td>59</td>\n",
       "      <td>256</td>\n",
       "      <td>3481</td>\n",
       "      <td>1</td>\n",
       "      <td>256</td>\n",
       "      <td>0</td>\n",
       "      <td>1.00</td>\n",
       "      <td>0.00</td>\n",
       "      <td>256.00</td>\n",
       "      <td>3481</td>\n",
       "    </tr>\n",
       "    <tr>\n",
       "      <th>4</th>\n",
       "      <td>ID_a62966799</td>\n",
       "      <td>175000.0</td>\n",
       "      <td>0</td>\n",
       "      <td>4</td>\n",
       "      <td>0</td>\n",
       "      <td>1</td>\n",
       "      <td>1</td>\n",
       "      <td>1</td>\n",
       "      <td>1.0</td>\n",
       "      <td>0</td>\n",
       "      <td>...</td>\n",
       "      <td>18</td>\n",
       "      <td>121</td>\n",
       "      <td>324</td>\n",
       "      <td>1</td>\n",
       "      <td>0</td>\n",
       "      <td>1</td>\n",
       "      <td>0.25</td>\n",
       "      <td>64.00</td>\n",
       "      <td>NaN</td>\n",
       "      <td>324</td>\n",
       "    </tr>\n",
       "  </tbody>\n",
       "</table>\n",
       "<p>5 rows × 142 columns</p>\n",
       "</div>"
      ],
      "text/plain": [
       "             Id      v2a1  hacdor  rooms  hacapo  v14a  refrig  v18q  v18q1  \\\n",
       "0  ID_2f6873615       NaN       0      5       0     1       1     0    NaN   \n",
       "1  ID_1c78846d2       NaN       0      5       0     1       1     0    NaN   \n",
       "2  ID_e5442cf6a       NaN       0      5       0     1       1     0    NaN   \n",
       "3  ID_a8db26a79       NaN       0     14       0     1       1     1    1.0   \n",
       "4  ID_a62966799  175000.0       0      4       0     1       1     1    1.0   \n",
       "\n",
       "   r4h1  ...  age  SQBescolari  SQBage  SQBhogar_total  SQBedjefe  \\\n",
       "0     1  ...    4            0      16               9          0   \n",
       "1     1  ...   41          256    1681               9          0   \n",
       "2     1  ...   41          289    1681               9          0   \n",
       "3     0  ...   59          256    3481               1        256   \n",
       "4     0  ...   18          121     324               1          0   \n",
       "\n",
       "   SQBhogar_nin  SQBovercrowding  SQBdependency  SQBmeaned  agesq  \n",
       "0             1             2.25           0.25     272.25     16  \n",
       "1             1             2.25           0.25     272.25   1681  \n",
       "2             1             2.25           0.25     272.25   1681  \n",
       "3             0             1.00           0.00     256.00   3481  \n",
       "4             1             0.25          64.00        NaN    324  \n",
       "\n",
       "[5 rows x 142 columns]"
      ]
     },
     "execution_count": 3,
     "metadata": {},
     "output_type": "execute_result"
    }
   ],
   "source": [
    "test_data.head()"
   ]
  },
  {
   "cell_type": "markdown",
   "id": "a574fe6b",
   "metadata": {},
   "source": [
    "**Identify the output variable.**"
   ]
  },
  {
   "cell_type": "code",
   "execution_count": 4,
   "id": "15550a15",
   "metadata": {},
   "outputs": [
    {
     "data": {
      "image/png": "[encoded data removed]",
      "text/plain": [
       "<Figure size 1000x400 with 1 Axes>"
      ]
     },
     "metadata": {},
     "output_type": "display_data"
    }
   ],
   "source": [
    "fig,ax = plt.subplots(figsize=(10,4))\n",
    "sns.countplot(train_data['Target'],ax=ax,ec='k',lw=2)\n",
    "ax.bar_label(ax.containers[0])\n",
    "plt.ylabel('Count')\n",
    "plt.xlabel('Target / Poverty Level')\n",
    "plt.title('Output Variable')\n",
    "plt.show()"
   ]
  },
  {
   "cell_type": "markdown",
   "id": "7806d6f7",
   "metadata": {},
   "source": [
    "**Understand the type of data.**"
   ]
  },
  {
   "cell_type": "code",
   "execution_count": 5,
   "id": "5e03644e",
   "metadata": {},
   "outputs": [
    {
     "name": "stdout",
     "output_type": "stream",
     "text": [
      "<class 'pandas.core.frame.DataFrame'>\n",
      "RangeIndex: 9557 entries, 0 to 9556\n",
      "Columns: 143 entries, Id to Target\n",
      "dtypes: float64(8), int64(130), object(5)\n",
      "memory usage: 10.4+ MB\n"
     ]
    }
   ],
   "source": [
    "train_data.info()"
   ]
  },
  {
   "cell_type": "code",
   "execution_count": 6,
   "id": "241b621c",
   "metadata": {},
   "outputs": [],
   "source": [
    "datatype = ['float','int','object']\n",
    "def datatypes(X):\n",
    "    for i in datatype:\n",
    "        print(f'DATA TYPE {i.upper()}: {len(X.select_dtypes(i).columns)}')\n",
    "        print(X.select_dtypes(i).columns)"
   ]
  },
  {
   "cell_type": "code",
   "execution_count": 7,
   "id": "fe76cb2d",
   "metadata": {},
   "outputs": [
    {
     "name": "stdout",
     "output_type": "stream",
     "text": [
      "DATA TYPE FLOAT: 8\n",
      "Index(['v2a1', 'v18q1', 'rez_esc', 'meaneduc', 'overcrowding',\n",
      "       'SQBovercrowding', 'SQBdependency', 'SQBmeaned'],\n",
      "      dtype='object')\n",
      "DATA TYPE INT: 130\n",
      "Index(['hacdor', 'rooms', 'hacapo', 'v14a', 'refrig', 'v18q', 'r4h1', 'r4h2',\n",
      "       'r4h3', 'r4m1',\n",
      "       ...\n",
      "       'area1', 'area2', 'age', 'SQBescolari', 'SQBage', 'SQBhogar_total',\n",
      "       'SQBedjefe', 'SQBhogar_nin', 'agesq', 'Target'],\n",
      "      dtype='object', length=130)\n",
      "DATA TYPE OBJECT: 5\n",
      "Index(['Id', 'idhogar', 'dependency', 'edjefe', 'edjefa'], dtype='object')\n"
     ]
    }
   ],
   "source": [
    "datatypes(train_data)"
   ]
  },
  {
   "cell_type": "code",
   "execution_count": 8,
   "id": "00c56dbb",
   "metadata": {},
   "outputs": [
    {
     "data": {
      "text/plain": [
       "yes          2192\n",
       "no           1747\n",
       ".5           1497\n",
       "2             730\n",
       "1.5           713\n",
       ".33333334     598\n",
       ".66666669     487\n",
       "8             378\n",
       ".25           260\n",
       "3             236\n",
       "4             100\n",
       ".75            98\n",
       ".2             90\n",
       ".40000001      84\n",
       "1.3333334      84\n",
       "2.5            77\n",
       "5              24\n",
       "1.25           18\n",
       "3.5            18\n",
       ".80000001      18\n",
       "2.25           13\n",
       ".71428573      12\n",
       "1.75           11\n",
       "1.2            11\n",
       ".83333331      11\n",
       ".22222222      11\n",
       ".2857143        9\n",
       "1.6666666       8\n",
       ".60000002       8\n",
       "6               7\n",
       ".16666667       7\n",
       "Name: dependency, dtype: int64"
      ]
     },
     "execution_count": 8,
     "metadata": {},
     "output_type": "execute_result"
    }
   ],
   "source": [
    "train_data.select_dtypes('object')['dependency'].value_counts()"
   ]
  },
  {
   "cell_type": "code",
   "execution_count": 9,
   "id": "205d2216",
   "metadata": {},
   "outputs": [
    {
     "data": {
      "text/plain": [
       "no     3762\n",
       "6      1845\n",
       "11      751\n",
       "9       486\n",
       "3       307\n",
       "15      285\n",
       "8       257\n",
       "7       234\n",
       "5       222\n",
       "14      208\n",
       "17      202\n",
       "2       194\n",
       "4       137\n",
       "16      134\n",
       "yes     123\n",
       "12      113\n",
       "10      111\n",
       "13      103\n",
       "21       43\n",
       "18       19\n",
       "19       14\n",
       "20        7\n",
       "Name: edjefe, dtype: int64"
      ]
     },
     "execution_count": 9,
     "metadata": {},
     "output_type": "execute_result"
    }
   ],
   "source": [
    "train_data.select_dtypes('object')['edjefe'].value_counts()"
   ]
  },
  {
   "cell_type": "code",
   "execution_count": 10,
   "id": "6783a92b",
   "metadata": {},
   "outputs": [
    {
     "data": {
      "text/plain": [
       "no     6230\n",
       "6       947\n",
       "11      399\n",
       "9       237\n",
       "8       217\n",
       "15      188\n",
       "7       179\n",
       "5       176\n",
       "3       152\n",
       "4       136\n",
       "14      120\n",
       "16      113\n",
       "10       96\n",
       "2        84\n",
       "17       76\n",
       "12       72\n",
       "yes      69\n",
       "13       52\n",
       "21        5\n",
       "19        4\n",
       "18        3\n",
       "20        2\n",
       "Name: edjefa, dtype: int64"
      ]
     },
     "execution_count": 10,
     "metadata": {},
     "output_type": "execute_result"
    }
   ],
   "source": [
    "train_data.select_dtypes('object')['edjefa'].value_counts()"
   ]
  },
  {
   "cell_type": "code",
   "execution_count": 11,
   "id": "69d2238d",
   "metadata": {},
   "outputs": [
    {
     "name": "stdout",
     "output_type": "stream",
     "text": [
      "DATA TYPE FLOAT: 11\n",
      "Index(['v2a1', 'v18q1', 'rez_esc', 'dependency', 'edjefe', 'edjefa',\n",
      "       'meaneduc', 'overcrowding', 'SQBovercrowding', 'SQBdependency',\n",
      "       'SQBmeaned'],\n",
      "      dtype='object')\n",
      "DATA TYPE INT: 130\n",
      "Index(['hacdor', 'rooms', 'hacapo', 'v14a', 'refrig', 'v18q', 'r4h1', 'r4h2',\n",
      "       'r4h3', 'r4m1',\n",
      "       ...\n",
      "       'area1', 'area2', 'age', 'SQBescolari', 'SQBage', 'SQBhogar_total',\n",
      "       'SQBedjefe', 'SQBhogar_nin', 'agesq', 'Target'],\n",
      "      dtype='object', length=130)\n",
      "DATA TYPE OBJECT: 2\n",
      "Index(['Id', 'idhogar'], dtype='object')\n"
     ]
    }
   ],
   "source": [
    "# Changing categorical data to numerical \n",
    "train_data['dependency'].replace(to_replace=['yes','no'],value=[1,0],inplace=True)\n",
    "train_data['edjefe'].replace(to_replace=['yes','no'],value=[1,0],inplace=True)\n",
    "train_data['edjefa'].replace(to_replace=['yes','no'],value=[1,0],inplace=True)\n",
    "train_data['dependency'] = train_data['dependency'].astype('float')\n",
    "train_data['edjefe'] = train_data['edjefe'].astype('float')\n",
    "train_data['edjefa'] = train_data['edjefa'].astype('float')\n",
    "datatypes(train_data)"
   ]
  },
  {
   "cell_type": "markdown",
   "id": "fbe7e468",
   "metadata": {},
   "source": [
    "**Check if there are any biases in your dataset.**"
   ]
  },
  {
   "cell_type": "code",
   "execution_count": 12,
   "id": "33c8778a",
   "metadata": {},
   "outputs": [
    {
     "name": "stdout",
     "output_type": "stream",
     "text": [
      "Degree of Freedom:- 1\n",
      "chi-square statistic:- 17022.072400560897\n",
      "critical_value: 3.841458820694124\n",
      "p-value: 0.0\n",
      "Significance level:  0.05\n",
      "Degree of Freedom:  1\n",
      "chi-square statistic: 17022.072400560897\n",
      "critical_value: 3.841458820694124\n",
      "p-value: 0.0\n",
      "Reject H0,There is a relationship between 2 categorical variables\n",
      "Reject H0,There is a relationship between 2 categorical variables\n"
     ]
    }
   ],
   "source": [
    "contingency_tab=pd.crosstab(train_data['r4t3'],train_data['hogar_total'])\n",
    "Observed_Values=contingency_tab.values\n",
    "import scipy.stats\n",
    "b=scipy.stats.chi2_contingency(contingency_tab)\n",
    "Expected_Values = b[3]\n",
    "no_of_rows=len(contingency_tab.iloc[0:2,0])\n",
    "no_of_columns=len(contingency_tab.iloc[0,0:2])\n",
    "df=(no_of_rows-1)*(no_of_columns-1)\n",
    "print(\"Degree of Freedom:-\",df)\n",
    "from scipy.stats import chi2\n",
    "chi_square=sum([(o-e)**2./e for o,e in zip(Observed_Values,Expected_Values)])\n",
    "chi_square_statistic=chi_square[0]+chi_square[1]\n",
    "print(\"chi-square statistic:-\",chi_square_statistic)\n",
    "alpha=0.05\n",
    "critical_value=chi2.ppf(q=1-alpha,df=df)\n",
    "print('critical_value:',critical_value)\n",
    "p_value=1-chi2.cdf(x=chi_square_statistic,df=df)\n",
    "print('p-value:',p_value)\n",
    "print('Significance level: ',alpha)\n",
    "print('Degree of Freedom: ',df)\n",
    "print('chi-square statistic:',chi_square_statistic)\n",
    "print('critical_value:',critical_value)\n",
    "print('p-value:',p_value)\n",
    "if chi_square_statistic>=critical_value:\n",
    "    print(\"Reject H0,There is a relationship between 2 categorical variables\")\n",
    "else:\n",
    "    print(\"Retain H0,There is no relationship between 2 categorical variables\")\n",
    "    \n",
    "if p_value<=alpha:\n",
    "    print(\"Reject H0,There is a relationship between 2 categorical variables\")\n",
    "else:\n",
    "    print(\"Retain H0,There is no relationship between 2 categorical variables\")"
   ]
  },
  {
   "cell_type": "code",
   "execution_count": 13,
   "id": "0ffc2c76",
   "metadata": {},
   "outputs": [
    {
     "data": {
      "image/png": "[encoded data removed]",
      "text/plain": [
       "<Figure size 1600x500 with 1 Axes>"
      ]
     },
     "metadata": {},
     "output_type": "display_data"
    }
   ],
   "source": [
    "plt.figure(figsize=(16,5))\n",
    "sns.boxplot(train_data['v2a1'])\n",
    "plt.show()"
   ]
  },
  {
   "cell_type": "code",
   "execution_count": 14,
   "id": "c045a058",
   "metadata": {},
   "outputs": [
    {
     "name": "stdout",
     "output_type": "stream",
     "text": [
      "2215\n",
      "3110.0\n",
      "Therefore,variables v18q,v18q1 have relationship between them. For good result we can use any one of them.\n"
     ]
    },
    {
     "data": {
      "text/html": [
       "<div>\n",
       "<style scoped>\n",
       "    .dataframe tbody tr th:only-of-type {\n",
       "        vertical-align: middle;\n",
       "    }\n",
       "\n",
       "    .dataframe tbody tr th {\n",
       "        vertical-align: top;\n",
       "    }\n",
       "\n",
       "    .dataframe thead th {\n",
       "        text-align: right;\n",
       "    }\n",
       "</style>\n",
       "<table border=\"1\" class=\"dataframe\">\n",
       "  <thead>\n",
       "    <tr style=\"text-align: right;\">\n",
       "      <th></th>\n",
       "      <th>v18q</th>\n",
       "      <th>v18q1</th>\n",
       "    </tr>\n",
       "  </thead>\n",
       "  <tbody>\n",
       "    <tr>\n",
       "      <th>v18q</th>\n",
       "      <td>1.0</td>\n",
       "      <td>NaN</td>\n",
       "    </tr>\n",
       "    <tr>\n",
       "      <th>v18q1</th>\n",
       "      <td>NaN</td>\n",
       "      <td>1.0</td>\n",
       "    </tr>\n",
       "  </tbody>\n",
       "</table>\n",
       "</div>"
      ],
      "text/plain": [
       "       v18q  v18q1\n",
       "v18q    1.0    NaN\n",
       "v18q1   NaN    1.0"
      ]
     },
     "execution_count": 14,
     "metadata": {},
     "output_type": "execute_result"
    }
   ],
   "source": [
    "print(train_data['v18q'].sum())\n",
    "print(train_data['v18q1'].sum())\n",
    "print('Therefore,variables v18q,v18q1 have relationship between them. For good result we can use any one of them.')\n",
    "train_data[['v18q','v18q1']].corr()"
   ]
  },
  {
   "cell_type": "markdown",
   "id": "9dd384ba",
   "metadata": {},
   "source": [
    "**Check whether all members of the house have the same poverty level.**"
   ]
  },
  {
   "cell_type": "code",
   "execution_count": 15,
   "id": "e358e830",
   "metadata": {},
   "outputs": [
    {
     "name": "stdout",
     "output_type": "stream",
     "text": [
      "Below are the few houses details where members do not have the same poverty level.\n",
      "___\n",
      "                Id    idhogar  Target\n",
      "1689  ID_8234b6451  3c6973219       4\n",
      "1690  ID_8761b8b29  3c6973219       4\n",
      "1691  ID_17f894177  3c6973219       2\n",
      "1692  ID_700ec94e3  3c6973219       4\n",
      "                Id    idhogar  Target\n",
      "2311  ID_114fbe5b3  0511912b6       4\n",
      "2312  ID_e9478911c  0511912b6       4\n",
      "2313  ID_a8947b31b  0511912b6       4\n",
      "2314  ID_97297f485  0511912b6       3\n",
      "                Id    idhogar  Target\n",
      "3109  ID_4197d1421  f006348ed       3\n",
      "3110  ID_06a29e4fa  f006348ed       3\n",
      "3111  ID_8681c1ce5  f006348ed       2\n",
      "3112  ID_7365e7b52  f006348ed       2\n",
      "3113  ID_402ad06e7  f006348ed       2\n",
      "                Id    idhogar  Target\n",
      "3248  ID_fbab06c98  a20ff33ba       2\n",
      "3249  ID_e40646e94  a20ff33ba       1\n",
      "3250  ID_f8bf25528  a20ff33ba       2\n",
      "3251  ID_021baf1e0  a20ff33ba       2\n",
      "                Id    idhogar  Target\n",
      "3320  ID_a8ab08091  5e9329fc6       3\n",
      "3321  ID_b0b7f2e33  5e9329fc6       2\n",
      "3322  ID_4fa4b0e0f  5e9329fc6       3\n",
      "___\n",
      "84 Houses have members with different poverty level\n"
     ]
    }
   ],
   "source": [
    "idhogar_list = list(train_data['idhogar'].unique())\n",
    "Different_Poverty_Level = []\n",
    "for i in idhogar_list:\n",
    "    MULTIPLY = train_data[train_data['idhogar']==i]['Target'].iloc[0]*len(train_data[train_data['idhogar']==i])\n",
    "    ADDITION = train_data[train_data['idhogar']==i]['Target'].sum()\n",
    "    if MULTIPLY != ADDITION:\n",
    "        Different_Poverty_Level.append(i)\n",
    "print('Below are the few houses details where members do not have the same poverty level.')\n",
    "print('___')\n",
    "for i in Different_Poverty_Level[10:15]:\n",
    "    print(train_data[train_data['idhogar']==i][['Id','idhogar','Target']])\n",
    "print('___')\n",
    "print(len(Different_Poverty_Level),'Houses have members with different poverty level')"
   ]
  },
  {
   "cell_type": "markdown",
   "id": "2896f983",
   "metadata": {},
   "source": [
    "**Check if there is a house without a family head.**"
   ]
  },
  {
   "cell_type": "code",
   "execution_count": 16,
   "id": "bbb0fa76",
   "metadata": {},
   "outputs": [
    {
     "name": "stdout",
     "output_type": "stream",
     "text": [
      "Below are the few houses without a family head.\n",
      "___\n",
      "                Id    idhogar  parentesco1\n",
      "4935  ID_717302050  09b195e7a            0\n",
      "                Id    idhogar  parentesco1\n",
      "4975  ID_ff6f13458  896fe6d3e            0\n",
      "                Id    idhogar  parentesco1\n",
      "5391  ID_64c9eabac  61c10e099            0\n",
      "                Id    idhogar  parentesco1\n",
      "5396  ID_8948b1f91  374ca5a19            0\n",
      "                Id    idhogar  parentesco1\n",
      "6443  ID_8ddb34d2c  bfd5067c2            0\n",
      "6444  ID_03e2f23b0  bfd5067c2            0\n",
      "                Id    idhogar  parentesco1\n",
      "7086  ID_ba2ac56bb  1367ab31d            0\n",
      "                Id    idhogar  parentesco1\n",
      "7438  ID_7ba374a80  6b1b2405f            0\n",
      "7439  ID_1bca5b5e5  6b1b2405f            0\n",
      "7440  ID_622be4200  6b1b2405f            0\n",
      "___\n",
      "15 Houses are without family head\n"
     ]
    }
   ],
   "source": [
    "idhogar_list = list(train_data['idhogar'].unique())\n",
    "House_without_a_family_head = []\n",
    "for i in idhogar_list:\n",
    "    ADDITION = train_data[train_data['idhogar']==i]['parentesco1'].sum()\n",
    "    if ADDITION == 0:\n",
    "        House_without_a_family_head.append(i)\n",
    "print('Below are the few houses without a family head.')\n",
    "print('___')\n",
    "for i in House_without_a_family_head[0:7]:\n",
    "    print(train_data[train_data['idhogar']==i][['Id','idhogar','parentesco1']])\n",
    "print('___')\n",
    "print(len(House_without_a_family_head),'Houses are without family head')"
   ]
  },
  {
   "cell_type": "markdown",
   "id": "7234cc66",
   "metadata": {},
   "source": [
    "**Set poverty level of the members and the head of the house within a family.**"
   ]
  },
  {
   "cell_type": "code",
   "execution_count": 17,
   "id": "7b3a6509",
   "metadata": {},
   "outputs": [],
   "source": [
    "poverty = train_data[['v2a1','rooms','refrig','v18q','v18q1','hhsize','computer','qmobilephone','television','parentesco1','Id','idhogar']]\n",
    "poverty.fillna(0,inplace=True) "
   ]
  },
  {
   "cell_type": "code",
   "execution_count": 18,
   "id": "fec03dca",
   "metadata": {},
   "outputs": [
    {
     "name": "stdout",
     "output_type": "stream",
     "text": [
      "As the data is skewed median was considered for poverty threshold\n",
      "Median for Rent amount 130000.0\n",
      "Median of Owned Stuff 13.0\n"
     ]
    }
   ],
   "source": [
    "rent_median = poverty.v2a1[poverty['v2a1']!=0].median()\n",
    "owned_elec_median = (poverty.rooms+poverty.refrig+poverty.v18q+poverty.v18q1+poverty.\\\n",
    "hhsize+poverty.computer+poverty.qmobilephone+poverty.television).median()\n",
    "poverty['Owned'] = poverty.rooms+poverty.refrig+poverty.v18q+poverty.v18q1+poverty.\\\n",
    "hhsize+poverty.computer+poverty.qmobilephone+poverty.television\n",
    "def poverty_rent(X):\n",
    "    if X > rent_median:\n",
    "        return 1\n",
    "    else:\n",
    "        return 0\n",
    "def poverty_owned(X):\n",
    "    if X > owned_elec_median:\n",
    "        return 1\n",
    "    else:\n",
    "        return 0\n",
    "def poverty_level(X):\n",
    "    if X > 0:\n",
    "        return 'Above Poverty'\n",
    "    else:\n",
    "        return 'Below Poverty'\n",
    "poverty['Poverty_acc_rent'] = poverty['v2a1'].apply(poverty_rent)\n",
    "poverty['Poverty_acc_owned'] = poverty['Owned'].apply(poverty_owned)\n",
    "poverty['Poverty_Level'] = poverty['Poverty_acc_rent']+poverty['Poverty_acc_owned']\n",
    "poverty['Poverty_Level'] = poverty['Poverty_Level'].apply(poverty_level)\n",
    "poverty[['v2a1','Owned','Poverty_Level']].head(10)\n",
    "print('As the data is skewed median was considered for poverty threshold')\n",
    "print('Median for Rent amount',rent_median)\n",
    "print('Median of Owned Stuff',owned_elec_median)"
   ]
  },
  {
   "cell_type": "code",
   "execution_count": 19,
   "id": "60badfdc",
   "metadata": {},
   "outputs": [
    {
     "name": "stdout",
     "output_type": "stream",
     "text": [
      "  idhogar Head/Member  parentesco1 Poverty_Level\n",
      "2f4baea07      Member            0 Above Poverty\n",
      "2f4baea07        Head            1 Above Poverty\n",
      "  idhogar Head/Member  parentesco1 Poverty_Level\n",
      "01ff6a086        Head            1 Below Poverty\n",
      "01ff6a086      Member            0 Below Poverty\n",
      "  idhogar Head/Member  parentesco1 Poverty_Level\n",
      "f623c549b      Member            0 Above Poverty\n",
      "f623c549b        Head            1 Above Poverty\n",
      "  idhogar Head/Member  parentesco1 Poverty_Level\n",
      "bf1d89cb8      Member            0 Above Poverty\n",
      "bf1d89cb8      Member            0 Above Poverty\n",
      "bf1d89cb8      Member            0 Above Poverty\n",
      "bf1d89cb8        Head            1 Above Poverty\n",
      "  idhogar Head/Member  parentesco1 Poverty_Level\n",
      "8e5f8c731      Member            0 Below Poverty\n",
      "8e5f8c731        Head            1 Below Poverty\n"
     ]
    }
   ],
   "source": [
    "poverty['Head/Member'] = poverty['parentesco1'].replace(to_replace=[0,1],value=['Member','Head'])\n",
    "for i in idhogar_list[110:115]:    \n",
    "    print(poverty[poverty['idhogar']==i][['idhogar','Head/Member','parentesco1','Poverty_Level']].to_string(index=False))"
   ]
  },
  {
   "cell_type": "code",
   "execution_count": 20,
   "id": "ae656e2c",
   "metadata": {},
   "outputs": [
    {
     "data": {
      "image/png": "[encoded data removed]",
      "text/plain": [
       "<Figure size 1000x400 with 1 Axes>"
      ]
     },
     "metadata": {},
     "output_type": "display_data"
    }
   ],
   "source": [
    "poverty.groupby('Head/Member')['Poverty_Level'].value_counts()\n",
    "fig,ax = plt.subplots(figsize=(10,4))\n",
    "sns.countplot(data=poverty,x='Poverty_Level',hue='Head/Member',ax=ax,ec='k',lw=2,palette='Accent')\n",
    "ax.bar_label(ax.containers[0])\n",
    "ax.bar_label(ax.containers[1])\n",
    "plt.ylabel('Count')\n",
    "plt.xlabel('Target / Poverty Level')\n",
    "plt.title('Output Variable')\n",
    "plt.show()"
   ]
  },
  {
   "cell_type": "markdown",
   "id": "85c50432",
   "metadata": {},
   "source": [
    "**Count how many null values are existing in columns.**"
   ]
  },
  {
   "cell_type": "code",
   "execution_count": 21,
   "id": "c5d81719",
   "metadata": {},
   "outputs": [
    {
     "name": "stdout",
     "output_type": "stream",
     "text": [
      "Column \"v2a1\" has 6860 number of null values or 71.78% of null values\n",
      "Column \"v18q1\" has 7342 number of null values or 76.82% of null values\n",
      "Column \"rez_esc\" has 7928 number of null values or 82.95% of null values\n",
      "Column \"meaneduc\" has 5 number of null values or 0.05% of null values\n",
      "Column \"SQBmeaned\" has 5 number of null values or 0.05% of null values\n"
     ]
    },
    {
     "data": {
      "image/png": "[encoded data removed]",
      "text/plain": [
       "<Figure size 1000x200 with 1 Axes>"
      ]
     },
     "metadata": {},
     "output_type": "display_data"
    }
   ],
   "source": [
    "null_values = train_data.isnull().sum().to_dict()\n",
    "x = []\n",
    "y = []\n",
    "for i,j in null_values.items():\n",
    "    if j > 0:\n",
    "        print(f'Column \"{i}\" has {j} number of null values or {round(j/train_data.shape[0]*100,2)}% of null values' )\n",
    "        x.append(i)\n",
    "        y.append(j)\n",
    "fig,ax = plt.subplots(figsize=(10,2))\n",
    "sns.barplot(x,y,ax=ax,ec='k',lw=1)\n",
    "ax.bar_label(ax.containers[0])\n",
    "plt.ylim(0,9557)\n",
    "plt.xlabel('Column Name')\n",
    "plt.ylabel('Count')\n",
    "plt.title(f'Number of Null values out of {train_data.shape[0]} rows')\n",
    "plt.show()"
   ]
  },
  {
   "cell_type": "markdown",
   "id": "42d5690d",
   "metadata": {},
   "source": [
    "**Remove null value rows of the target variable.**"
   ]
  },
  {
   "cell_type": "code",
   "execution_count": 22,
   "id": "8b8c9f73",
   "metadata": {},
   "outputs": [
    {
     "name": "stdout",
     "output_type": "stream",
     "text": [
      "0\n",
      "There are no null values in target variable\n"
     ]
    }
   ],
   "source": [
    "print(train_data['Target'].isnull().sum())\n",
    "print('There are no null values in target variable')"
   ]
  },
  {
   "cell_type": "code",
   "execution_count": 23,
   "id": "4e538bd8",
   "metadata": {},
   "outputs": [],
   "source": [
    "train_data['v2a1'].fillna(0,inplace=True)\n",
    "train_data['v18q1'].fillna(0,inplace=True)"
   ]
  },
  {
   "cell_type": "code",
   "execution_count": 24,
   "id": "16ff81ec",
   "metadata": {},
   "outputs": [],
   "source": [
    "train_data.drop(['tipovivi3', 'v18q','rez_esc','elimbasu5'],axis=1,inplace=True)"
   ]
  },
  {
   "cell_type": "code",
   "execution_count": 25,
   "id": "bff06647",
   "metadata": {},
   "outputs": [
    {
     "data": {
      "image/png": "[encoded data removed]",
      "text/plain": [
       "<Figure size 1500x300 with 2 Axes>"
      ]
     },
     "metadata": {},
     "output_type": "display_data"
    }
   ],
   "source": [
    "plt.figure(figsize=(15,3))\n",
    "plt.subplot(1,2,1)\n",
    "sns.distplot(train_data['meaneduc'])\n",
    "plt.yticks([])\n",
    "plt.subplot(1,2,2)\n",
    "sns.distplot(train_data['SQBmeaned'])\n",
    "plt.yticks([])\n",
    "plt.show()"
   ]
  },
  {
   "cell_type": "code",
   "execution_count": 26,
   "id": "626b10b6",
   "metadata": {},
   "outputs": [
    {
     "name": "stdout",
     "output_type": "stream",
     "text": [
      "9.231522935701433\n",
      "102.58886699019641\n"
     ]
    }
   ],
   "source": [
    "print(np.mean(train_data['meaneduc']))\n",
    "print(np.mean(train_data['SQBmeaned']))"
   ]
  },
  {
   "cell_type": "code",
   "execution_count": 27,
   "id": "29d45f98",
   "metadata": {},
   "outputs": [
    {
     "name": "stdout",
     "output_type": "stream",
     "text": [
      "9.0\n",
      "81.0\n"
     ]
    }
   ],
   "source": [
    "print(train_data['meaneduc'].median())\n",
    "print(train_data['SQBmeaned'].median())"
   ]
  },
  {
   "cell_type": "code",
   "execution_count": 28,
   "id": "4050b9d9",
   "metadata": {},
   "outputs": [],
   "source": [
    "train_data['meaneduc'].fillna(train_data['meaneduc'].median(),inplace=True)\n",
    "train_data['SQBmeaned'].fillna(train_data['SQBmeaned'].median(),inplace=True)"
   ]
  },
  {
   "cell_type": "code",
   "execution_count": 29,
   "id": "53a02c30",
   "metadata": {},
   "outputs": [
    {
     "data": {
      "text/plain": [
       "0"
      ]
     },
     "execution_count": 29,
     "metadata": {},
     "output_type": "execute_result"
    }
   ],
   "source": [
    "# Checking for null values\n",
    "train_data.isnull().sum().sum()"
   ]
  },
  {
   "cell_type": "code",
   "execution_count": 30,
   "id": "69f460f5",
   "metadata": {},
   "outputs": [
    {
     "name": "stdout",
     "output_type": "stream",
     "text": [
      "DATA TYPE FLOAT: 10\n",
      "Index(['v2a1', 'v18q1', 'dependency', 'edjefe', 'edjefa', 'meaneduc',\n",
      "       'overcrowding', 'SQBovercrowding', 'SQBdependency', 'SQBmeaned'],\n",
      "      dtype='object')\n",
      "DATA TYPE INT: 127\n",
      "Index(['hacdor', 'rooms', 'hacapo', 'v14a', 'refrig', 'r4h1', 'r4h2', 'r4h3',\n",
      "       'r4m1', 'r4m2',\n",
      "       ...\n",
      "       'area1', 'area2', 'age', 'SQBescolari', 'SQBage', 'SQBhogar_total',\n",
      "       'SQBedjefe', 'SQBhogar_nin', 'agesq', 'Target'],\n",
      "      dtype='object', length=127)\n",
      "DATA TYPE OBJECT: 2\n",
      "Index(['Id', 'idhogar'], dtype='object')\n"
     ]
    }
   ],
   "source": [
    "datatype = ['float','int','object']\n",
    "def datatypes(X):\n",
    "    for i in datatype:\n",
    "        print(f'DATA TYPE {i.upper()}: {len(X.select_dtypes(i).columns)}')\n",
    "        print(X.select_dtypes(i).columns)\n",
    "datatypes(train_data)"
   ]
  },
  {
   "cell_type": "code",
   "execution_count": 31,
   "id": "4290d35d",
   "metadata": {},
   "outputs": [],
   "source": [
    "# Separating data to Feature and Target\n",
    "X = train_data.drop(columns=['Id', 'idhogar','Target'],axis=1)\n",
    "Y = train_data['Target']"
   ]
  },
  {
   "cell_type": "code",
   "execution_count": 32,
   "id": "ced52450",
   "metadata": {},
   "outputs": [],
   "source": [
    "# Standardization\n",
    "SC = StandardScaler()\n",
    "SC_ = SC.fit(X)\n",
    "X = SC_.transform(X)"
   ]
  },
  {
   "cell_type": "code",
   "execution_count": 33,
   "id": "f3bd584a",
   "metadata": {},
   "outputs": [],
   "source": [
    "# Splittin data to train and test split\n",
    "x_train,x_test,y_train,y_test = train_test_split(X,Y,test_size=.2,random_state=1)"
   ]
  },
  {
   "cell_type": "markdown",
   "id": "94a45ef2",
   "metadata": {},
   "source": [
    "**Check the accuracy using random forest with cross validation.**"
   ]
  },
  {
   "cell_type": "code",
   "execution_count": 34,
   "id": "e83c168b",
   "metadata": {},
   "outputs": [
    {
     "name": "stdout",
     "output_type": "stream",
     "text": [
      "Best CV Score 0.8553300880964391\n",
      "Model Parameter {'max_depth': 15, 'n_estimators': 300}\n",
      "Best Estimator RandomForestClassifier(max_depth=15, n_estimators=300, random_state=0)\n"
     ]
    }
   ],
   "source": [
    "from sklearn.pipeline import Pipeline\n",
    "from sklearn.model_selection import GridSearchCV\n",
    "\n",
    "RFC=RandomForestClassifier(random_state=0)\n",
    "Parameter={'n_estimators':[10,50,100,300],'max_depth':[3,5,10,15]}\n",
    "grid=zip([RFC],[Parameter])\n",
    "\n",
    "best_=None\n",
    "\n",
    "for i, j in grid:\n",
    "    a=GridSearchCV(i,param_grid=j,cv=3,n_jobs=1)\n",
    "    a.fit(x_train,y_train)\n",
    "    if best_ is None:\n",
    "        best_=a\n",
    "    elif a.best_score_>best_.best_score_:\n",
    "        best_=a\n",
    "        \n",
    "        \n",
    "print (\"Best CV Score\",best_.best_score_)\n",
    "print (\"Model Parameter\",best_.best_params_)\n",
    "print(\"Best Estimator\",best_.best_estimator_)\n"
   ]
  },
  {
   "cell_type": "markdown",
   "id": "b4bb9103",
   "metadata": {},
   "source": [
    "**Predict the accuracy using random forest classifier.**"
   ]
  },
  {
   "cell_type": "code",
   "execution_count": 35,
   "id": "8fe92bec",
   "metadata": {},
   "outputs": [
    {
     "name": "stdout",
     "output_type": "stream",
     "text": [
      "Random Forest Accuracy Score on train data: 98.17%\n",
      "Random Forest Accuracy Score on test data: 89.17%\n"
     ]
    }
   ],
   "source": [
    "RFC=best_.best_estimator_\n",
    "RFC_Model=RFC.fit(x_train,y_train)\n",
    "train_pred=RFC_Model.predict(x_train)\n",
    "test_pred=RFC_Model.predict(x_test)\n",
    "print(f'Random Forest Accuracy Score on train data: {round(accuracy_score(train_pred,y_train)*100,2)}%')\n",
    "print(f'Random Forest Accuracy Score on test data: {round(accuracy_score(test_pred,y_test)*100,2)}%')"
   ]
  },
  {
   "cell_type": "markdown",
   "id": "0dbe55c7",
   "metadata": {},
   "source": [
    "# Checking Model accuracy on test data "
   ]
  },
  {
   "cell_type": "code",
   "execution_count": 36,
   "id": "e858047f",
   "metadata": {},
   "outputs": [
    {
     "data": {
      "text/html": [
       "<div>\n",
       "<style scoped>\n",
       "    .dataframe tbody tr th:only-of-type {\n",
       "        vertical-align: middle;\n",
       "    }\n",
       "\n",
       "    .dataframe tbody tr th {\n",
       "        vertical-align: top;\n",
       "    }\n",
       "\n",
       "    .dataframe thead th {\n",
       "        text-align: right;\n",
       "    }\n",
       "</style>\n",
       "<table border=\"1\" class=\"dataframe\">\n",
       "  <thead>\n",
       "    <tr style=\"text-align: right;\">\n",
       "      <th></th>\n",
       "      <th>Id</th>\n",
       "      <th>v2a1</th>\n",
       "      <th>hacdor</th>\n",
       "      <th>rooms</th>\n",
       "      <th>hacapo</th>\n",
       "      <th>v14a</th>\n",
       "      <th>refrig</th>\n",
       "      <th>v18q</th>\n",
       "      <th>v18q1</th>\n",
       "      <th>r4h1</th>\n",
       "      <th>...</th>\n",
       "      <th>age</th>\n",
       "      <th>SQBescolari</th>\n",
       "      <th>SQBage</th>\n",
       "      <th>SQBhogar_total</th>\n",
       "      <th>SQBedjefe</th>\n",
       "      <th>SQBhogar_nin</th>\n",
       "      <th>SQBovercrowding</th>\n",
       "      <th>SQBdependency</th>\n",
       "      <th>SQBmeaned</th>\n",
       "      <th>agesq</th>\n",
       "    </tr>\n",
       "  </thead>\n",
       "  <tbody>\n",
       "    <tr>\n",
       "      <th>0</th>\n",
       "      <td>ID_2f6873615</td>\n",
       "      <td>NaN</td>\n",
       "      <td>0</td>\n",
       "      <td>5</td>\n",
       "      <td>0</td>\n",
       "      <td>1</td>\n",
       "      <td>1</td>\n",
       "      <td>0</td>\n",
       "      <td>NaN</td>\n",
       "      <td>1</td>\n",
       "      <td>...</td>\n",
       "      <td>4</td>\n",
       "      <td>0</td>\n",
       "      <td>16</td>\n",
       "      <td>9</td>\n",
       "      <td>0</td>\n",
       "      <td>1</td>\n",
       "      <td>2.25</td>\n",
       "      <td>0.25</td>\n",
       "      <td>272.25</td>\n",
       "      <td>16</td>\n",
       "    </tr>\n",
       "    <tr>\n",
       "      <th>1</th>\n",
       "      <td>ID_1c78846d2</td>\n",
       "      <td>NaN</td>\n",
       "      <td>0</td>\n",
       "      <td>5</td>\n",
       "      <td>0</td>\n",
       "      <td>1</td>\n",
       "      <td>1</td>\n",
       "      <td>0</td>\n",
       "      <td>NaN</td>\n",
       "      <td>1</td>\n",
       "      <td>...</td>\n",
       "      <td>41</td>\n",
       "      <td>256</td>\n",
       "      <td>1681</td>\n",
       "      <td>9</td>\n",
       "      <td>0</td>\n",
       "      <td>1</td>\n",
       "      <td>2.25</td>\n",
       "      <td>0.25</td>\n",
       "      <td>272.25</td>\n",
       "      <td>1681</td>\n",
       "    </tr>\n",
       "    <tr>\n",
       "      <th>2</th>\n",
       "      <td>ID_e5442cf6a</td>\n",
       "      <td>NaN</td>\n",
       "      <td>0</td>\n",
       "      <td>5</td>\n",
       "      <td>0</td>\n",
       "      <td>1</td>\n",
       "      <td>1</td>\n",
       "      <td>0</td>\n",
       "      <td>NaN</td>\n",
       "      <td>1</td>\n",
       "      <td>...</td>\n",
       "      <td>41</td>\n",
       "      <td>289</td>\n",
       "      <td>1681</td>\n",
       "      <td>9</td>\n",
       "      <td>0</td>\n",
       "      <td>1</td>\n",
       "      <td>2.25</td>\n",
       "      <td>0.25</td>\n",
       "      <td>272.25</td>\n",
       "      <td>1681</td>\n",
       "    </tr>\n",
       "    <tr>\n",
       "      <th>3</th>\n",
       "      <td>ID_a8db26a79</td>\n",
       "      <td>NaN</td>\n",
       "      <td>0</td>\n",
       "      <td>14</td>\n",
       "      <td>0</td>\n",
       "      <td>1</td>\n",
       "      <td>1</td>\n",
       "      <td>1</td>\n",
       "      <td>1.0</td>\n",
       "      <td>0</td>\n",
       "      <td>...</td>\n",
       "      <td>59</td>\n",
       "      <td>256</td>\n",
       "      <td>3481</td>\n",
       "      <td>1</td>\n",
       "      <td>256</td>\n",
       "      <td>0</td>\n",
       "      <td>1.00</td>\n",
       "      <td>0.00</td>\n",
       "      <td>256.00</td>\n",
       "      <td>3481</td>\n",
       "    </tr>\n",
       "    <tr>\n",
       "      <th>4</th>\n",
       "      <td>ID_a62966799</td>\n",
       "      <td>175000.0</td>\n",
       "      <td>0</td>\n",
       "      <td>4</td>\n",
       "      <td>0</td>\n",
       "      <td>1</td>\n",
       "      <td>1</td>\n",
       "      <td>1</td>\n",
       "      <td>1.0</td>\n",
       "      <td>0</td>\n",
       "      <td>...</td>\n",
       "      <td>18</td>\n",
       "      <td>121</td>\n",
       "      <td>324</td>\n",
       "      <td>1</td>\n",
       "      <td>0</td>\n",
       "      <td>1</td>\n",
       "      <td>0.25</td>\n",
       "      <td>64.00</td>\n",
       "      <td>NaN</td>\n",
       "      <td>324</td>\n",
       "    </tr>\n",
       "  </tbody>\n",
       "</table>\n",
       "<p>5 rows × 142 columns</p>\n",
       "</div>"
      ],
      "text/plain": [
       "             Id      v2a1  hacdor  rooms  hacapo  v14a  refrig  v18q  v18q1  \\\n",
       "0  ID_2f6873615       NaN       0      5       0     1       1     0    NaN   \n",
       "1  ID_1c78846d2       NaN       0      5       0     1       1     0    NaN   \n",
       "2  ID_e5442cf6a       NaN       0      5       0     1       1     0    NaN   \n",
       "3  ID_a8db26a79       NaN       0     14       0     1       1     1    1.0   \n",
       "4  ID_a62966799  175000.0       0      4       0     1       1     1    1.0   \n",
       "\n",
       "   r4h1  ...  age  SQBescolari  SQBage  SQBhogar_total  SQBedjefe  \\\n",
       "0     1  ...    4            0      16               9          0   \n",
       "1     1  ...   41          256    1681               9          0   \n",
       "2     1  ...   41          289    1681               9          0   \n",
       "3     0  ...   59          256    3481               1        256   \n",
       "4     0  ...   18          121     324               1          0   \n",
       "\n",
       "   SQBhogar_nin  SQBovercrowding  SQBdependency  SQBmeaned  agesq  \n",
       "0             1             2.25           0.25     272.25     16  \n",
       "1             1             2.25           0.25     272.25   1681  \n",
       "2             1             2.25           0.25     272.25   1681  \n",
       "3             0             1.00           0.00     256.00   3481  \n",
       "4             1             0.25          64.00        NaN    324  \n",
       "\n",
       "[5 rows x 142 columns]"
      ]
     },
     "execution_count": 36,
     "metadata": {},
     "output_type": "execute_result"
    }
   ],
   "source": [
    "test_data = pd.read_csv('test.csv')\n",
    "test_data.head()"
   ]
  },
  {
   "cell_type": "code",
   "execution_count": 37,
   "id": "dc904981",
   "metadata": {},
   "outputs": [],
   "source": [
    "datatype = ['float','int','object']\n",
    "def datatypes(X):\n",
    "    for i in datatype:\n",
    "        print(f'DATA TYPE {i.upper()}: {len(X.select_dtypes(i).columns)}')\n",
    "        print(X.select_dtypes(i).columns)"
   ]
  },
  {
   "cell_type": "code",
   "execution_count": 38,
   "id": "f3d01fff",
   "metadata": {},
   "outputs": [
    {
     "name": "stdout",
     "output_type": "stream",
     "text": [
      "DATA TYPE FLOAT: 8\n",
      "Index(['v2a1', 'v18q1', 'rez_esc', 'meaneduc', 'overcrowding',\n",
      "       'SQBovercrowding', 'SQBdependency', 'SQBmeaned'],\n",
      "      dtype='object')\n",
      "DATA TYPE INT: 129\n",
      "Index(['hacdor', 'rooms', 'hacapo', 'v14a', 'refrig', 'v18q', 'r4h1', 'r4h2',\n",
      "       'r4h3', 'r4m1',\n",
      "       ...\n",
      "       'lugar6', 'area1', 'area2', 'age', 'SQBescolari', 'SQBage',\n",
      "       'SQBhogar_total', 'SQBedjefe', 'SQBhogar_nin', 'agesq'],\n",
      "      dtype='object', length=129)\n",
      "DATA TYPE OBJECT: 5\n",
      "Index(['Id', 'idhogar', 'dependency', 'edjefe', 'edjefa'], dtype='object')\n"
     ]
    }
   ],
   "source": [
    "datatypes(test_data)"
   ]
  },
  {
   "cell_type": "code",
   "execution_count": 39,
   "id": "a5f42cb0",
   "metadata": {},
   "outputs": [
    {
     "name": "stdout",
     "output_type": "stream",
     "text": [
      "DATA TYPE FLOAT: 11\n",
      "Index(['v2a1', 'v18q1', 'rez_esc', 'dependency', 'edjefe', 'edjefa',\n",
      "       'meaneduc', 'overcrowding', 'SQBovercrowding', 'SQBdependency',\n",
      "       'SQBmeaned'],\n",
      "      dtype='object')\n",
      "DATA TYPE INT: 129\n",
      "Index(['hacdor', 'rooms', 'hacapo', 'v14a', 'refrig', 'v18q', 'r4h1', 'r4h2',\n",
      "       'r4h3', 'r4m1',\n",
      "       ...\n",
      "       'lugar6', 'area1', 'area2', 'age', 'SQBescolari', 'SQBage',\n",
      "       'SQBhogar_total', 'SQBedjefe', 'SQBhogar_nin', 'agesq'],\n",
      "      dtype='object', length=129)\n",
      "DATA TYPE OBJECT: 2\n",
      "Index(['Id', 'idhogar'], dtype='object')\n"
     ]
    }
   ],
   "source": [
    "# Changing categorical data to numerical \n",
    "test_data['dependency'].replace(to_replace=['yes','no'],value=[1,0],inplace=True)\n",
    "test_data['edjefe'].replace(to_replace=['yes','no'],value=[1,0],inplace=True)\n",
    "test_data['edjefa'].replace(to_replace=['yes','no'],value=[1,0],inplace=True)\n",
    "test_data['dependency'] = test_data['dependency'].astype('float')\n",
    "test_data['edjefe'] = test_data['edjefe'].astype('float')\n",
    "test_data['edjefa'] = test_data['edjefa'].astype('float')\n",
    "datatypes(test_data)"
   ]
  },
  {
   "cell_type": "code",
   "execution_count": 40,
   "id": "2bf3aed1",
   "metadata": {},
   "outputs": [],
   "source": [
    "test_data['v2a1'].fillna(0,inplace=True)\n",
    "test_data['v18q1'].fillna(0,inplace=True)\n",
    "test_data.drop(['Id', 'idhogar','tipovivi3', 'v18q','rez_esc','elimbasu5'],axis=1,inplace=True)\n",
    "test_data['meaneduc'].fillna(test_data['meaneduc'].median(),inplace=True)\n",
    "test_data['SQBmeaned'].fillna(test_data['SQBmeaned'].median(),inplace=True)"
   ]
  },
  {
   "cell_type": "code",
   "execution_count": 41,
   "id": "fcf3794b",
   "metadata": {},
   "outputs": [],
   "source": [
    "x_test_data = SC_.transform(test_data)"
   ]
  },
  {
   "cell_type": "code",
   "execution_count": 42,
   "id": "72c53f07",
   "metadata": {},
   "outputs": [],
   "source": [
    "y_test_pred = RFC_Model.predict(x_test_data)"
   ]
  },
  {
   "cell_type": "code",
   "execution_count": 43,
   "id": "3a1f9a78",
   "metadata": {},
   "outputs": [
    {
     "data": {
      "text/plain": [
       "array([4, 4, 4, ..., 4, 4, 4], dtype=int64)"
      ]
     },
     "execution_count": 43,
     "metadata": {},
     "output_type": "execute_result"
    }
   ],
   "source": [
    "y_test_pred"
   ]
  },
  {
   "cell_type": "code",
   "execution_count": 44,
   "id": "6d5346b2",
   "metadata": {},
   "outputs": [
    {
     "data": {
      "text/html": [
       "<div>\n",
       "<style scoped>\n",
       "    .dataframe tbody tr th:only-of-type {\n",
       "        vertical-align: middle;\n",
       "    }\n",
       "\n",
       "    .dataframe tbody tr th {\n",
       "        vertical-align: top;\n",
       "    }\n",
       "\n",
       "    .dataframe thead th {\n",
       "        text-align: right;\n",
       "    }\n",
       "</style>\n",
       "<table border=\"1\" class=\"dataframe\">\n",
       "  <thead>\n",
       "    <tr style=\"text-align: right;\">\n",
       "      <th></th>\n",
       "      <th>v2a1</th>\n",
       "      <th>hacdor</th>\n",
       "      <th>rooms</th>\n",
       "      <th>hacapo</th>\n",
       "      <th>v14a</th>\n",
       "      <th>refrig</th>\n",
       "      <th>v18q1</th>\n",
       "      <th>r4h1</th>\n",
       "      <th>r4h2</th>\n",
       "      <th>r4h3</th>\n",
       "      <th>...</th>\n",
       "      <th>SQBescolari</th>\n",
       "      <th>SQBage</th>\n",
       "      <th>SQBhogar_total</th>\n",
       "      <th>SQBedjefe</th>\n",
       "      <th>SQBhogar_nin</th>\n",
       "      <th>SQBovercrowding</th>\n",
       "      <th>SQBdependency</th>\n",
       "      <th>SQBmeaned</th>\n",
       "      <th>agesq</th>\n",
       "      <th>Predicted_value</th>\n",
       "    </tr>\n",
       "  </thead>\n",
       "  <tbody>\n",
       "    <tr>\n",
       "      <th>0</th>\n",
       "      <td>0.0</td>\n",
       "      <td>0</td>\n",
       "      <td>5</td>\n",
       "      <td>0</td>\n",
       "      <td>1</td>\n",
       "      <td>1</td>\n",
       "      <td>0.0</td>\n",
       "      <td>1</td>\n",
       "      <td>1</td>\n",
       "      <td>2</td>\n",
       "      <td>...</td>\n",
       "      <td>0</td>\n",
       "      <td>16</td>\n",
       "      <td>9</td>\n",
       "      <td>0</td>\n",
       "      <td>1</td>\n",
       "      <td>2.25</td>\n",
       "      <td>0.25</td>\n",
       "      <td>272.250000</td>\n",
       "      <td>16</td>\n",
       "      <td>4</td>\n",
       "    </tr>\n",
       "    <tr>\n",
       "      <th>1</th>\n",
       "      <td>0.0</td>\n",
       "      <td>0</td>\n",
       "      <td>5</td>\n",
       "      <td>0</td>\n",
       "      <td>1</td>\n",
       "      <td>1</td>\n",
       "      <td>0.0</td>\n",
       "      <td>1</td>\n",
       "      <td>1</td>\n",
       "      <td>2</td>\n",
       "      <td>...</td>\n",
       "      <td>256</td>\n",
       "      <td>1681</td>\n",
       "      <td>9</td>\n",
       "      <td>0</td>\n",
       "      <td>1</td>\n",
       "      <td>2.25</td>\n",
       "      <td>0.25</td>\n",
       "      <td>272.250000</td>\n",
       "      <td>1681</td>\n",
       "      <td>4</td>\n",
       "    </tr>\n",
       "    <tr>\n",
       "      <th>2</th>\n",
       "      <td>0.0</td>\n",
       "      <td>0</td>\n",
       "      <td>5</td>\n",
       "      <td>0</td>\n",
       "      <td>1</td>\n",
       "      <td>1</td>\n",
       "      <td>0.0</td>\n",
       "      <td>1</td>\n",
       "      <td>1</td>\n",
       "      <td>2</td>\n",
       "      <td>...</td>\n",
       "      <td>289</td>\n",
       "      <td>1681</td>\n",
       "      <td>9</td>\n",
       "      <td>0</td>\n",
       "      <td>1</td>\n",
       "      <td>2.25</td>\n",
       "      <td>0.25</td>\n",
       "      <td>272.250000</td>\n",
       "      <td>1681</td>\n",
       "      <td>4</td>\n",
       "    </tr>\n",
       "    <tr>\n",
       "      <th>3</th>\n",
       "      <td>0.0</td>\n",
       "      <td>0</td>\n",
       "      <td>14</td>\n",
       "      <td>0</td>\n",
       "      <td>1</td>\n",
       "      <td>1</td>\n",
       "      <td>1.0</td>\n",
       "      <td>0</td>\n",
       "      <td>1</td>\n",
       "      <td>1</td>\n",
       "      <td>...</td>\n",
       "      <td>256</td>\n",
       "      <td>3481</td>\n",
       "      <td>1</td>\n",
       "      <td>256</td>\n",
       "      <td>0</td>\n",
       "      <td>1.00</td>\n",
       "      <td>0.00</td>\n",
       "      <td>256.000000</td>\n",
       "      <td>3481</td>\n",
       "      <td>4</td>\n",
       "    </tr>\n",
       "    <tr>\n",
       "      <th>4</th>\n",
       "      <td>175000.0</td>\n",
       "      <td>0</td>\n",
       "      <td>4</td>\n",
       "      <td>0</td>\n",
       "      <td>1</td>\n",
       "      <td>1</td>\n",
       "      <td>1.0</td>\n",
       "      <td>0</td>\n",
       "      <td>0</td>\n",
       "      <td>0</td>\n",
       "      <td>...</td>\n",
       "      <td>121</td>\n",
       "      <td>324</td>\n",
       "      <td>1</td>\n",
       "      <td>0</td>\n",
       "      <td>1</td>\n",
       "      <td>0.25</td>\n",
       "      <td>64.00</td>\n",
       "      <td>75.111115</td>\n",
       "      <td>324</td>\n",
       "      <td>4</td>\n",
       "    </tr>\n",
       "  </tbody>\n",
       "</table>\n",
       "<p>5 rows × 137 columns</p>\n",
       "</div>"
      ],
      "text/plain": [
       "       v2a1  hacdor  rooms  hacapo  v14a  refrig  v18q1  r4h1  r4h2  r4h3  \\\n",
       "0       0.0       0      5       0     1       1    0.0     1     1     2   \n",
       "1       0.0       0      5       0     1       1    0.0     1     1     2   \n",
       "2       0.0       0      5       0     1       1    0.0     1     1     2   \n",
       "3       0.0       0     14       0     1       1    1.0     0     1     1   \n",
       "4  175000.0       0      4       0     1       1    1.0     0     0     0   \n",
       "\n",
       "   ...  SQBescolari  SQBage  SQBhogar_total  SQBedjefe  SQBhogar_nin  \\\n",
       "0  ...            0      16               9          0             1   \n",
       "1  ...          256    1681               9          0             1   \n",
       "2  ...          289    1681               9          0             1   \n",
       "3  ...          256    3481               1        256             0   \n",
       "4  ...          121     324               1          0             1   \n",
       "\n",
       "   SQBovercrowding  SQBdependency   SQBmeaned  agesq  Predicted_value  \n",
       "0             2.25           0.25  272.250000     16                4  \n",
       "1             2.25           0.25  272.250000   1681                4  \n",
       "2             2.25           0.25  272.250000   1681                4  \n",
       "3             1.00           0.00  256.000000   3481                4  \n",
       "4             0.25          64.00   75.111115    324                4  \n",
       "\n",
       "[5 rows x 137 columns]"
      ]
     },
     "execution_count": 44,
     "metadata": {},
     "output_type": "execute_result"
    }
   ],
   "source": [
    "y_pred = pd.DataFrame(y_test_pred,columns=['Predicted_value'])\n",
    "RFC_test_pred_data = pd.read_csv('test.csv')\n",
    "RFC_test_pred_data = pd.concat([test_data,y_pred],axis=1)\n",
    "RFC_test_pred_data.head()"
   ]
  },
  {
   "cell_type": "code",
   "execution_count": 45,
   "id": "4eaa325f",
   "metadata": {},
   "outputs": [
    {
     "data": {
      "image/png": "[encoded data removed]",
      "text/plain": [
       "<Figure size 1000x400 with 1 Axes>"
      ]
     },
     "metadata": {},
     "output_type": "display_data"
    }
   ],
   "source": [
    "# Identify the output variable.\n",
    "fig,ax = plt.subplots(figsize=(10,4))\n",
    "sns.countplot(RFC_test_pred_data['Predicted_value'],ax=ax,ec='k',lw=2)\n",
    "ax.bar_label(ax.containers[0])\n",
    "plt.ylabel('Count')\n",
    "plt.xlabel('Target / Poverty Level')\n",
    "plt.title('Number of predicted output variables on test data')\n",
    "plt.show()"
   ]
  },
  {
   "cell_type": "markdown",
   "id": "adfb4f1e",
   "metadata": {},
   "source": [
    "**Random Forest Accuracy Score on train data: 98.17%**\n",
    "\n",
    "**Random Forest Accuracy Score on test data: 89.17%**"
   ]
  },
  {
   "cell_type": "code",
   "execution_count": null,
   "id": "b7b9a5e4",
   "metadata": {},
   "outputs": [],
   "source": []
  }
 ],
 "metadata": {
  "kernelspec": {
   "display_name": "Python 3 (ipykernel)",
   "language": "python",
   "name": "python3"
  },
  "language_info": {
   "codemirror_mode": {
    "name": "ipython",
    "version": 3
   },
   "file_extension": ".py",
   "mimetype": "text/x-python",
   "name": "python",
   "nbconvert_exporter": "python",
   "pygments_lexer": "ipython3",
   "version": "3.9.13"
  }
 },
 "nbformat": 4,
 "nbformat_minor": 5
}
